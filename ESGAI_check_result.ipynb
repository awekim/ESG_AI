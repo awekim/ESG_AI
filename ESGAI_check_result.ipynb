{
 "cells": [
  {
   "cell_type": "code",
   "execution_count": 6,
   "id": "69d9816e",
   "metadata": {},
   "outputs": [
    {
     "data": {
      "text/html": [
       "<div>\n",
       "<style scoped>\n",
       "    .dataframe tbody tr th:only-of-type {\n",
       "        vertical-align: middle;\n",
       "    }\n",
       "\n",
       "    .dataframe tbody tr th {\n",
       "        vertical-align: top;\n",
       "    }\n",
       "\n",
       "    .dataframe thead th {\n",
       "        text-align: right;\n",
       "    }\n",
       "</style>\n",
       "<table border=\"1\" class=\"dataframe\">\n",
       "  <thead>\n",
       "    <tr style=\"text-align: right;\">\n",
       "      <th></th>\n",
       "      <th>Target_name</th>\n",
       "      <th>Target_overview</th>\n",
       "      <th>Target_business_description</th>\n",
       "      <th>AI Company Status</th>\n",
       "      <th>Explanation</th>\n",
       "      <th>Confidence Score</th>\n",
       "    </tr>\n",
       "  </thead>\n",
       "  <tbody>\n",
       "    <tr>\n",
       "      <th>0</th>\n",
       "      <td>ADHESIVE TECHNOLOGIES INC.</td>\n",
       "      <td>This company, based in the United States, is e...</td>\n",
       "      <td>Glue guns, tackifying resins and additives man...</td>\n",
       "      <td>Others</td>\n",
       "      <td>The company's primary business involves the ma...</td>\n",
       "      <td>100.0</td>\n",
       "    </tr>\n",
       "    <tr>\n",
       "      <th>1</th>\n",
       "      <td>EKA SYNTHOMER OY</td>\n",
       "      <td>The company is a Finland based enterprise enga...</td>\n",
       "      <td>Synthetic rubber manufacturer</td>\n",
       "      <td>Others</td>\n",
       "      <td>The provided business description and overview...</td>\n",
       "      <td>100.0</td>\n",
       "    </tr>\n",
       "    <tr>\n",
       "      <th>2</th>\n",
       "      <td>XI (DL) HOLDINGS GMBH</td>\n",
       "      <td>The company is engaged in the provision of man...</td>\n",
       "      <td>Adhesives and sealing products manufacturer ho...</td>\n",
       "      <td>Others</td>\n",
       "      <td>The provided business description and overview...</td>\n",
       "      <td>95.0</td>\n",
       "    </tr>\n",
       "    <tr>\n",
       "      <th>3</th>\n",
       "      <td>JAMES HARDIE INDUSTRIES PLC</td>\n",
       "      <td>This company, based in Dublin, Ireland, manufa...</td>\n",
       "      <td>Fibre cement-based building products manufactu...</td>\n",
       "      <td>Others</td>\n",
       "      <td>The company is a manufacturer and distributor ...</td>\n",
       "      <td>100.0</td>\n",
       "    </tr>\n",
       "    <tr>\n",
       "      <th>4</th>\n",
       "      <td>GW PHARMACEUTICALS PLC</td>\n",
       "      <td>This company is engaged in the research, devel...</td>\n",
       "      <td>Cannabis derived pharmaceutical products devel...</td>\n",
       "      <td>Others</td>\n",
       "      <td>The company is primarily engaged in the resear...</td>\n",
       "      <td>95.0</td>\n",
       "    </tr>\n",
       "  </tbody>\n",
       "</table>\n",
       "</div>"
      ],
      "text/plain": [
       "                   Target_name  \\\n",
       "0   ADHESIVE TECHNOLOGIES INC.   \n",
       "1             EKA SYNTHOMER OY   \n",
       "2        XI (DL) HOLDINGS GMBH   \n",
       "3  JAMES HARDIE INDUSTRIES PLC   \n",
       "4       GW PHARMACEUTICALS PLC   \n",
       "\n",
       "                                     Target_overview  \\\n",
       "0  This company, based in the United States, is e...   \n",
       "1  The company is a Finland based enterprise enga...   \n",
       "2  The company is engaged in the provision of man...   \n",
       "3  This company, based in Dublin, Ireland, manufa...   \n",
       "4  This company is engaged in the research, devel...   \n",
       "\n",
       "                         Target_business_description AI Company Status  \\\n",
       "0  Glue guns, tackifying resins and additives man...            Others   \n",
       "1                      Synthetic rubber manufacturer            Others   \n",
       "2  Adhesives and sealing products manufacturer ho...            Others   \n",
       "3  Fibre cement-based building products manufactu...            Others   \n",
       "4  Cannabis derived pharmaceutical products devel...            Others   \n",
       "\n",
       "                                         Explanation  Confidence Score  \n",
       "0  The company's primary business involves the ma...             100.0  \n",
       "1  The provided business description and overview...             100.0  \n",
       "2  The provided business description and overview...              95.0  \n",
       "3  The company is a manufacturer and distributor ...             100.0  \n",
       "4  The company is primarily engaged in the resear...              95.0  "
      ]
     },
     "execution_count": 6,
     "metadata": {},
     "output_type": "execute_result"
    }
   ],
   "source": [
    "import pandas as pd\n",
    "\n",
    "df_results = pd.read_csv(\"I:/Data_for_practice/ESG/ai_target_company_classification_results.csv\")\n",
    "df_results.head()"
   ]
  },
  {
   "cell_type": "code",
   "execution_count": 8,
   "id": "337b0b91",
   "metadata": {},
   "outputs": [
    {
     "data": {
      "text/plain": [
       "1942"
      ]
     },
     "execution_count": 8,
     "metadata": {},
     "output_type": "execute_result"
    }
   ],
   "source": [
    "df_results['Target_name'].nunique()\n",
    "\n"
   ]
  }
 ],
 "metadata": {
  "kernelspec": {
   "display_name": "base",
   "language": "python",
   "name": "python3"
  },
  "language_info": {
   "codemirror_mode": {
    "name": "ipython",
    "version": 3
   },
   "file_extension": ".py",
   "mimetype": "text/x-python",
   "name": "python",
   "nbconvert_exporter": "python",
   "pygments_lexer": "ipython3",
   "version": "3.12.7"
  }
 },
 "nbformat": 4,
 "nbformat_minor": 5
}
